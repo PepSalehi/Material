{
 "cells": [
  {
   "cell_type": "markdown",
   "metadata": {},
   "source": [
    "## Production Allocation\n",
    "\n",
    "The following model is for a specific instance of the production\n",
    "allocation problem seen in the first lectures. We give here the primal\n",
    " with the instantiated numerical parameters.\n",
    "\n",
    "\n",
    "$$\n",
    "\\begin{array}{*{6}{r}l}\n",
    "\\max & 5x_1&+&6x_2&+&8x_3&=z\\\\\n",
    "&6x_1&+&5x_2&+&10x_3 &\\leq 60\\\\\n",
    "&8x_1&+&4x_2&+&4x_3&\\leq 40\\\\\n",
    "&4x_1&+&5x_2&+&6x_3&\\leq 50\\\\\n",
    "&x_1,x_2,x_3&\\geq 0\n",
    "\\end{array}\n",
    "$$\n",
    "and its dual model\n",
    "$$\n",
    "\\begin{array}{*{6}{r}l}\n",
    "\\min & 60y_1&+&40y_2&+&50y_3&=u\\\\\n",
    "&6y_1&+&8y_2&+&4y_3 &\\leq 5\\\\\n",
    "&5y_1&+&4y_2&+&5y_3&\\leq 6\\\\\n",
    "&10y_1&+&4y_2&+&6y_3&\\leq 8\\\\\n",
    "&y_1,y_2,y_3&\\geq 0\n",
    "\\end{array}\n",
    "$$\n",
    "\n",
    "\n",
    "\n",
    "### Analysis of the final tableau\n",
    "\n",
    "\n",
    "Solving one of the two problems provides the solution also to the other\n",
    "problem. The final tableau of the primal problem looks like this:\n",
    "\n",
    "```text\n",
    "|------+----+----+------+----+----+----+-----|\n",
    "|   x1 | x2 | x3 |   s1 | s2 | s3 | -z |   b |\n",
    "|------+----+----+------+----+----+----+-----|\n",
    "|   ?  |  1 |  0 |  ?   |  0 |  ? |  0 |   7 |\n",
    "|   ?  |  0 |  1 |  ?   |  0 |  ? |  0 | 5/2 |\n",
    "|   ?  |  0 |  0 |  ?   |  1 |  ? |  0 |   2 |\n",
    "|------+----+----+------+----+----+----+-----|\n",
    "| -0.2 |  0 |  0 | -0.2 |  0 | -1 |  1 | -62 |\n",
    "|------+----+----+------+----+----+----+-----|\n",
    "```\n",
    "\n",
    "The question marks are for the values that are not relevant for the goals\n",
    "of this exercise.\n",
    "\n",
    "We deduce that the primal solution is $x^*_1=0,x^*_2=7,x^*_3=2.5$ and the\n",
    "dual solution is $y^*_1=0.2,y^*_2=0,y^*_3=1$. The objective value is\n",
    "$z^*=u^*=62$.\n"
   ]
  },
  {
   "cell_type": "markdown",
   "metadata": {},
   "source": [
    "\n",
    "The three numbers in the last row for the columns of the non basic\n",
    "variables are called *reduced costs*. They indicate how much we\n",
    "should make each product more expensive in order to be worth\n",
    "manufacturing it.  The next three values are known as *shadow\n",
    "  prices*. After a change of sign they give us the values of the dual\n",
    "variables, which are interpreted as the *marginal value* of\n",
    "increasing (or decreasing) the capacities of the resources (that is, the\n",
    "value by which the objective function would improve if the constraint\n",
    "were relaxed by one unit, which corresponds to buying one unit more of\n",
    "resource). In our example, which seeks maximization, the marginal value\n",
    "1 for the third slack variable corresponding to the third resource means\n",
    "that the objective function would increase by 1 if we could have one\n",
    "more unit of that resource.\n",
    "\n",
    "It can be verified that in the\n",
    "primal problem at the optimum the first and third resources are fully\n",
    "exhausted, that is, their constraint is satisfied at the equality, while\n",
    "there is *slack* for the second resource, that is, the constraint\n",
    "holds with strict inequality.  Looking at the marginal values, we see\n",
    "that the second resource has been given a zero valuation. This seems\n",
    "plausible, since we are not using all the capacity that we have, we are\n",
    "not willing to place much value on it (buying one more unit of that\n",
    "resource would not translate in an improvement of the objective\n",
    "function).\n",
    "\n",
    "These results are captured by the Complementary Slackness theorem of\n",
    "linear programming. If a constraint is not \"binding\" in the\n",
    "optimal primal solution, the corresponding dual variable is zero in the\n",
    "optimal solution to the dual model.  Similarly, if a constraint in the\n",
    "dual model is not \"binding\" in the optimal solution to the dual\n",
    "model, then the corresponding variable is zero in the optimal solution\n",
    "to the primal model."
   ]
  },
  {
   "cell_type": "markdown",
   "metadata": {},
   "source": [
    "## Solving the model with Pyomo\n",
    "\n",
    "Let's write the primal model in Python and solve it with Pyomo. Here is\n",
    "the script:"
   ]
  },
  {
   "cell_type": "code",
   "execution_count": 42,
   "metadata": {},
   "outputs": [
    {
     "name": "stdout",
     "output_type": "stream",
     "text": [
      "# ==========================================================\n",
      "# = Solver Results                                         =\n",
      "# ==========================================================\n",
      "# ----------------------------------------------------------\n",
      "#   Problem Information\n",
      "# ----------------------------------------------------------\n",
      "Problem: \n",
      "- Name: unknown\n",
      "  Lower bound: 62.0\n",
      "  Upper bound: 62.0\n",
      "  Number of objectives: 1\n",
      "  Number of constraints: 4\n",
      "  Number of variables: 4\n",
      "  Number of nonzeros: 10\n",
      "  Sense: maximize\n",
      "# ----------------------------------------------------------\n",
      "#   Solver Information\n",
      "# ----------------------------------------------------------\n",
      "Solver: \n",
      "- Status: ok\n",
      "  Termination condition: optimal\n",
      "  Statistics: \n",
      "    Branch and bound: \n",
      "      Number of bounded subproblems: 0\n",
      "      Number of created subproblems: 0\n",
      "  Error rc: 0\n",
      "  Time: 0.019019126892089844\n",
      "# ----------------------------------------------------------\n",
      "#   Solution Information\n",
      "# ----------------------------------------------------------\n",
      "Solution: \n",
      "- number of solutions: 0\n",
      "  number of solutions displayed: 0\n"
     ]
    }
   ],
   "source": [
    "#!/usr/bin/python3\n",
    "import pyomo.environ as po\n",
    "\n",
    "model = po.ConcreteModel(\"prod\")\n",
    "\n",
    "# declare decision variables\n",
    "model.x1 = po.Var(domain=po.NonNegativeReals)\n",
    "model.x2 = po.Var(domain=po.NonNegativeReals)\n",
    "model.x3 = po.Var(domain=po.NonNegativeReals)\n",
    "\n",
    "# declare objective\n",
    "model.profit = po.Objective(\n",
    "    expr = 5.0*model.x1 + 6.0*model.x2 + 8.0*model.x3,\n",
    "    sense = po.maximize)\n",
    "\n",
    "# declare constraints\n",
    "model.demand = po.Constraint(expr = 6.0*model.x1 + 5.0*model.x2 + 10.0*model.x3 <= 60.0)\n",
    "model.laborA = po.Constraint(expr = 8.0*model.x1 + 4.0*model.x2 + 4.0*model.x3 <= 40.0)\n",
    "model.laborB = po.Constraint(expr = 4.0*model.x1 + 5.0*model.x2 + 6.0*model.x3 <= 50.0)\n",
    "\n",
    "# solve\n",
    "solver = po.SolverFactory('glpk')\n",
    "results = solver.solve(model)\n",
    "results.write()"
   ]
  },
  {
   "cell_type": "markdown",
   "metadata": {},
   "source": [
    "The documentation for the functions `po.Var()`,\n",
    "`po.Objective()`, `po.Constraint()`, as well as\n",
    "for all other functions in Pyomo is available from the\n",
    "[Reference Manual](https://pyomo.readthedocs.io/en/stable/index.html) and more specifically from the\n",
    "[Modeling Components API page](https://pyomo.readthedocs.io/en/stable/pyomo_modeling_components/index.html).\n",
    "\n",
    "If the code is in a file called `prod1_scip.py` then we can solve the\n",
    "model by calling:\n",
    "\n",
    "```bash\n",
    "> python3 prod1_scip.py\n",
    "```"
   ]
  },
  {
   "cell_type": "markdown",
   "metadata": {},
   "source": [
    "Most of the information associated with a Pyomo model is\n",
    "stored in a set of attributes. Some attributes are associated with the\n",
    "variables of the model, some with the constraints of the model, and some\n",
    "with the model itself. To access these attributes you have to use the\n",
    "methods available under `ConcreteModel`."
   ]
  },
  {
   "cell_type": "code",
   "execution_count": 51,
   "metadata": {},
   "outputs": [
    {
     "ename": "TypeError",
     "evalue": "'str' object is not callable",
     "output_type": "error",
     "traceback": [
      "\u001b[0;31m---------------------------------------------------------------------------\u001b[0m",
      "\u001b[0;31mTypeError\u001b[0m                                 Traceback (most recent call last)",
      "\u001b[0;32m<ipython-input-51-302b0ade5aea>\u001b[0m in \u001b[0;36m<module>\u001b[0;34m()\u001b[0m\n\u001b[0;32m----> 1\u001b[0;31m \u001b[0;32mif\u001b[0m \u001b[0mstr\u001b[0m\u001b[0;34m(\u001b[0m\u001b[0mresults\u001b[0m\u001b[0;34m.\u001b[0m\u001b[0mSolver\u001b[0m\u001b[0;34m.\u001b[0m\u001b[0mstatus\u001b[0m\u001b[0;34m)\u001b[0m \u001b[0;34m==\u001b[0m \u001b[0;34m'ok'\u001b[0m\u001b[0;34m:\u001b[0m\u001b[0;34m\u001b[0m\u001b[0m\n\u001b[0m\u001b[1;32m      2\u001b[0m     \u001b[0;31m# display solution\u001b[0m\u001b[0;34m\u001b[0m\u001b[0;34m\u001b[0m\u001b[0m\n\u001b[1;32m      3\u001b[0m     \u001b[0mprint\u001b[0m\u001b[0;34m(\u001b[0m\u001b[0;34m\"Profit = \"\u001b[0m\u001b[0;34m,\u001b[0m \u001b[0mmodel\u001b[0m\u001b[0;34m.\u001b[0m\u001b[0mprofit\u001b[0m\u001b[0;34m(\u001b[0m\u001b[0;34m)\u001b[0m\u001b[0;34m)\u001b[0m\u001b[0;34m\u001b[0m\u001b[0m\n\u001b[1;32m      4\u001b[0m     \u001b[0mprint\u001b[0m\u001b[0;34m(\u001b[0m\u001b[0;34m\"Units of X1 = \"\u001b[0m\u001b[0;34m,\u001b[0m \u001b[0mmodel\u001b[0m\u001b[0;34m.\u001b[0m\u001b[0mx1\u001b[0m\u001b[0;34m(\u001b[0m\u001b[0;34m)\u001b[0m\u001b[0;34m)\u001b[0m\u001b[0;34m\u001b[0m\u001b[0m\n\u001b[1;32m      5\u001b[0m     \u001b[0mprint\u001b[0m\u001b[0;34m(\u001b[0m\u001b[0;34m\"Units of X2 = \"\u001b[0m\u001b[0;34m,\u001b[0m \u001b[0mmodel\u001b[0m\u001b[0;34m.\u001b[0m\u001b[0mx2\u001b[0m\u001b[0;34m(\u001b[0m\u001b[0;34m)\u001b[0m\u001b[0;34m)\u001b[0m\u001b[0;34m\u001b[0m\u001b[0m\n",
      "\u001b[0;31mTypeError\u001b[0m: 'str' object is not callable"
     ]
    }
   ],
   "source": [
    "if str(results.Solver.status) == 'ok':\n",
    "    # display solution\n",
    "    print(\"Profit = \", model.profit())\n",
    "    print(\"Units of X1 = \", model.x1())\n",
    "    print(\"Units of X2 = \", model.x2())\n",
    "    print(\"Units of X3 = \", model.x3())\n",
    "else:\n",
    "    print(\"No Valid Solution Found\")"
   ]
  },
  {
   "cell_type": "code",
   "execution_count": 52,
   "metadata": {},
   "outputs": [
    {
     "name": "stdout",
     "output_type": "stream",
     "text": [
      "Constraint  value  lslack  uslack\n",
      "demand      60.00     inf    0.00 \n",
      "laborA      38.00     inf    2.00 \n",
      "laborB      50.00     inf    0.00 \n"
     ]
    }
   ],
   "source": [
    "fstr = \"   {0:7.2f} {1:7.2f} {2:7.2f} \"\n",
    "\n",
    "print(\"Constraint  value  lslack  uslack\")\n",
    "for c in [model.demand, model.laborA, model.laborB]:\n",
    "    print(c, fstr.format(c(), c.lslack(), c.uslack()))"
   ]
  },
  {
   "cell_type": "markdown",
   "metadata": {},
   "source": [
    "**Debugging models**"
   ]
  },
  {
   "cell_type": "markdown",
   "metadata": {},
   "source": [
    "Before trusting a solution, it is important to verify that the model solved is the one we wanted. In order to assess this fact it is possible to look at the model that was created:"
   ]
  },
  {
   "cell_type": "code",
   "execution_count": 19,
   "metadata": {},
   "outputs": [
    {
     "name": "stdout",
     "output_type": "stream",
     "text": [
      "3 Var Declarations\n",
      "    x1 : Size=1, Index=None\n",
      "        Key  : Lower : Value : Upper : Fixed : Stale : Domain\n",
      "        None :     0 :   0.0 :  None : False : False : NonNegativeReals\n",
      "    x2 : Size=1, Index=None\n",
      "        Key  : Lower : Value : Upper : Fixed : Stale : Domain\n",
      "        None :     0 :   7.0 :  None : False : False : NonNegativeReals\n",
      "    x3 : Size=1, Index=None\n",
      "        Key  : Lower : Value : Upper : Fixed : Stale : Domain\n",
      "        None :     0 :   2.5 :  None : False : False : NonNegativeReals\n",
      "\n",
      "1 Objective Declarations\n",
      "    profit : Size=1, Index=None, Active=True\n",
      "        Key  : Active : Sense    : Expression\n",
      "        None :   True : maximize : 5.0*x1 + 6.0*x2 + 8.0*x3\n",
      "\n",
      "3 Constraint Declarations\n",
      "    demand : Size=1, Index=None, Active=True\n",
      "        Key  : Lower : Body                      : Upper : Active\n",
      "        None :  -Inf : 6.0*x1 + 5.0*x2 + 10.0*x3 :  60.0 :   True\n",
      "    laborA : Size=1, Index=None, Active=True\n",
      "        Key  : Lower : Body                     : Upper : Active\n",
      "        None :  -Inf : 8.0*x1 + 4.0*x2 + 4.0*x3 :  40.0 :   True\n",
      "    laborB : Size=1, Index=None, Active=True\n",
      "        Key  : Lower : Body                     : Upper : Active\n",
      "        None :  -Inf : 4.0*x1 + 5.0*x2 + 6.0*x3 :  50.0 :   True\n",
      "\n",
      "7 Declarations: x1 x2 x3 profit demand laborA laborB\n"
     ]
    }
   ],
   "source": [
    "model.pprint()"
   ]
  },
  {
   "cell_type": "markdown",
   "metadata": {},
   "source": [
    "*Exporting Model Data to a File*\n",
    "\n",
    "Priting the instance of the problem to a file in a standard format is another way to assess the correctness of the instance generated when Pyomo puts together the parameters and the model. This process is very useful with implicit models as we will see later. Inspect\n",
    "the files created by these lines:"
   ]
  },
  {
   "cell_type": "code",
   "execution_count": 38,
   "metadata": {},
   "outputs": [
    {
     "data": {
      "text/plain": [
       "('prod.mps', 4446399960)"
      ]
     },
     "execution_count": 38,
     "metadata": {},
     "output_type": "execute_result"
    }
   ],
   "source": [
    "model.write(\"prod.lp\")\n",
    "model.write(\"prod.mps\")"
   ]
  },
  {
   "cell_type": "markdown",
   "metadata": {},
   "source": [
    "The files `prod.lp` and `prod.mps` contain the problem in two different formats. "
   ]
  },
  {
   "cell_type": "markdown",
   "metadata": {},
   "source": [
    "Another form of debugging is to inspect more througly the output while solving"
   ]
  },
  {
   "cell_type": "code",
   "execution_count": 29,
   "metadata": {},
   "outputs": [],
   "source": [
    "#po.SolverFactory('cbc').solve(model,tee=True)\n",
    "#po.SolverFactory('glpk').solve(model,tee=True)"
   ]
  },
  {
   "cell_type": "markdown",
   "metadata": {},
   "source": [
    "## Solver Parameters\n",
    "\n",
    "It is possible to specify the parameters of the solver (for example to set a time limit) by specifying them before solving the model. For example, we can avoid preprocessing to occur and set the primal simplex as the solution method:\n",
    "\n",
    "The list of parameters can be found in the documentation of each specific solver:\n",
    "\n",
    "- [GLPK](https://en.wikibooks.org/wiki/GLPK/Using_GLPSOL) or [GLPK](http://www.maximalsoftware.com/solvopt/optglpk.html)\n",
    "- [CBC](https://www.coin-or.org/Cbc/cbcuserguide.html) or type `cbc -?` from a command line\n",
    "- [SCIP](https://scip.zib.de/doc/html/PARAMETERS.php)\n",
    "- [Gurobi](https://www.gurobi.com/documentation/9.0/refman/parameters.html)\n",
    "- [CPLEX](https://www.ibm.com/support/knowledgecenter/SSSA5P_12.10.0/ilog.odms.cplex.help/CPLEX/homepages/refparameterscplex.html)\n"
   ]
  },
  {
   "cell_type": "code",
   "execution_count": 35,
   "metadata": {},
   "outputs": [],
   "source": [
    "solver = po.SolverFactory('glpk')\n",
    "solver.options['tmlim'] = 5 # seconds\n",
    "results = solver.solve(model)"
   ]
  },
  {
   "cell_type": "markdown",
   "metadata": {},
   "source": [
    "## Your Task\n",
    "\n",
    "Try all these formats on the production allocation example above and check their contents. The MPS file is not very user friendly. This is\n",
    "because the format is an old format when computer technology had much\n",
    "more limitations than nowadays. \n",
    "The CPLEX-LP format is a more explicit version of the problem that may\n",
    "be useful to check whether the model we implemented in Python is\n",
    "actually the one we intended.\n",
    "\n",
    "\n",
    "Try also different solvers and inspect their output. \n",
    "Perhaps the most complete screen output is the one produced by the solver SCIP.\n",
    "You can find an explanation of it from a shell:\n",
    "\n",
    "```bash\n",
    "$ scip\n",
    "SCIP> display display\n",
    "```\n",
    "\n",
    "If a letter appears in front of a display row, it indicates, which heuristic\n",
    "found the new primal bound, a star representing an integral\n",
    "LP-relaxation.  In addition, the output indicates the amount of\n",
    "presolving that is conducted. SCIP finds the optimal solution in two iterations with the primal simplex method - we can enforce this with:"
   ]
  },
  {
   "cell_type": "code",
   "execution_count": 60,
   "metadata": {},
   "outputs": [
    {
     "ename": "FileNotFoundError",
     "evalue": "[Errno 2] No such file or directory: '/var/folders/w9/sxcp2ljj4wq3fdhy78rf5djh0000gn/T/tmp4l1jtxf1.pyomo.sol'",
     "output_type": "error",
     "traceback": [
      "\u001b[0;31m---------------------------------------------------------------------------\u001b[0m",
      "\u001b[0;31mFileNotFoundError\u001b[0m                         Traceback (most recent call last)",
      "\u001b[0;32m<ipython-input-60-eab19dcdcd9d>\u001b[0m in \u001b[0;36m<module>\u001b[0;34m()\u001b[0m\n\u001b[1;32m      5\u001b[0m \u001b[0;31m#model.setCharParam(\"lp/initalgorithm\", \"p\")\u001b[0m\u001b[0;34m\u001b[0m\u001b[0;34m\u001b[0m\u001b[0m\n\u001b[1;32m      6\u001b[0m \u001b[0msolver\u001b[0m\u001b[0;34m.\u001b[0m\u001b[0moptions\u001b[0m\u001b[0;34m[\u001b[0m\u001b[0;34m\"lp/initalgorithm\"\u001b[0m\u001b[0;34m]\u001b[0m \u001b[0;34m=\u001b[0m \u001b[0;34m\"p\"\u001b[0m\u001b[0;34m\u001b[0m\u001b[0m\n\u001b[0;32m----> 7\u001b[0;31m \u001b[0mresults\u001b[0m \u001b[0;34m=\u001b[0m \u001b[0msolver\u001b[0m\u001b[0;34m.\u001b[0m\u001b[0msolve\u001b[0m\u001b[0;34m(\u001b[0m\u001b[0mmodel\u001b[0m\u001b[0;34m)\u001b[0m\u001b[0;34m\u001b[0m\u001b[0m\n\u001b[0m",
      "\u001b[0;32m/Library/Frameworks/Python.framework/Versions/3.6/lib/python3.6/site-packages/pyomo/opt/base/solvers.py\u001b[0m in \u001b[0;36msolve\u001b[0;34m(self, *args, **kwds)\u001b[0m\n\u001b[1;32m    603\u001b[0m                 \u001b[0mprint\u001b[0m\u001b[0;34m(\u001b[0m\u001b[0;34m\"      %6.2f seconds required for solver\"\u001b[0m \u001b[0;34m%\u001b[0m \u001b[0;34m(\u001b[0m\u001b[0msolve_completion_time\u001b[0m \u001b[0;34m-\u001b[0m \u001b[0mpresolve_completion_time\u001b[0m\u001b[0;34m)\u001b[0m\u001b[0;34m)\u001b[0m\u001b[0;34m\u001b[0m\u001b[0m\n\u001b[1;32m    604\u001b[0m \u001b[0;34m\u001b[0m\u001b[0m\n\u001b[0;32m--> 605\u001b[0;31m             \u001b[0mresult\u001b[0m \u001b[0;34m=\u001b[0m \u001b[0mself\u001b[0m\u001b[0;34m.\u001b[0m\u001b[0m_postsolve\u001b[0m\u001b[0;34m(\u001b[0m\u001b[0;34m)\u001b[0m\u001b[0;34m\u001b[0m\u001b[0m\n\u001b[0m\u001b[1;32m    606\u001b[0m             \u001b[0mresult\u001b[0m\u001b[0;34m.\u001b[0m\u001b[0m_smap_id\u001b[0m \u001b[0;34m=\u001b[0m \u001b[0mself\u001b[0m\u001b[0;34m.\u001b[0m\u001b[0m_smap_id\u001b[0m\u001b[0;34m\u001b[0m\u001b[0m\n\u001b[1;32m    607\u001b[0m             \u001b[0mresult\u001b[0m\u001b[0;34m.\u001b[0m\u001b[0m_smap\u001b[0m \u001b[0;34m=\u001b[0m \u001b[0;32mNone\u001b[0m\u001b[0;34m\u001b[0m\u001b[0m\n",
      "\u001b[0;32m/Library/Frameworks/Python.framework/Versions/3.6/lib/python3.6/site-packages/pyomo/solvers/plugins/solvers/ASL.py\u001b[0m in \u001b[0;36m_postsolve\u001b[0;34m(self)\u001b[0m\n\u001b[1;32m    204\u001b[0m         \u001b[0;31m#\u001b[0m\u001b[0;34m\u001b[0m\u001b[0;34m\u001b[0m\u001b[0m\n\u001b[1;32m    205\u001b[0m         \u001b[0mself\u001b[0m\u001b[0;34m.\u001b[0m\u001b[0m_instance\u001b[0m \u001b[0;34m=\u001b[0m \u001b[0;32mNone\u001b[0m\u001b[0;34m\u001b[0m\u001b[0m\n\u001b[0;32m--> 206\u001b[0;31m         \u001b[0;32mreturn\u001b[0m \u001b[0mSystemCallSolver\u001b[0m\u001b[0;34m.\u001b[0m\u001b[0m_postsolve\u001b[0m\u001b[0;34m(\u001b[0m\u001b[0mself\u001b[0m\u001b[0;34m)\u001b[0m\u001b[0;34m\u001b[0m\u001b[0m\n\u001b[0m\u001b[1;32m    207\u001b[0m \u001b[0;34m\u001b[0m\u001b[0m\n\u001b[1;32m    208\u001b[0m \u001b[0;34m\u001b[0m\u001b[0m\n",
      "\u001b[0;32m/Library/Frameworks/Python.framework/Versions/3.6/lib/python3.6/site-packages/pyomo/opt/solver/shellcmd.py\u001b[0m in \u001b[0;36m_postsolve\u001b[0;34m(self)\u001b[0m\n\u001b[1;32m    268\u001b[0m \u001b[0;34m\u001b[0m\u001b[0m\n\u001b[1;32m    269\u001b[0m         \u001b[0;32mif\u001b[0m \u001b[0mself\u001b[0m\u001b[0;34m.\u001b[0m\u001b[0m_results_format\u001b[0m \u001b[0;32mis\u001b[0m \u001b[0;32mnot\u001b[0m \u001b[0;32mNone\u001b[0m\u001b[0;34m:\u001b[0m\u001b[0;34m\u001b[0m\u001b[0m\n\u001b[0;32m--> 270\u001b[0;31m             \u001b[0mresults\u001b[0m \u001b[0;34m=\u001b[0m \u001b[0mself\u001b[0m\u001b[0;34m.\u001b[0m\u001b[0mprocess_output\u001b[0m\u001b[0;34m(\u001b[0m\u001b[0mself\u001b[0m\u001b[0;34m.\u001b[0m\u001b[0m_rc\u001b[0m\u001b[0;34m)\u001b[0m\u001b[0;34m\u001b[0m\u001b[0m\n\u001b[0m\u001b[1;32m    271\u001b[0m             \u001b[0;31m#\u001b[0m\u001b[0;34m\u001b[0m\u001b[0;34m\u001b[0m\u001b[0m\n\u001b[1;32m    272\u001b[0m             \u001b[0;31m# If keepfiles is true, then we pop the\u001b[0m\u001b[0;34m\u001b[0m\u001b[0;34m\u001b[0m\u001b[0m\n",
      "\u001b[0;32m/Library/Frameworks/Python.framework/Versions/3.6/lib/python3.6/site-packages/pyomo/opt/solver/shellcmd.py\u001b[0m in \u001b[0;36mprocess_output\u001b[0;34m(self, rc)\u001b[0m\n\u001b[1;32m    348\u001b[0m                 results = self._results_reader(self._results_file,\n\u001b[1;32m    349\u001b[0m                                                \u001b[0mres\u001b[0m\u001b[0;34m=\u001b[0m\u001b[0mresults\u001b[0m\u001b[0;34m,\u001b[0m\u001b[0;34m\u001b[0m\u001b[0m\n\u001b[0;32m--> 350\u001b[0;31m                                                suffixes=self._suffixes)\n\u001b[0m\u001b[1;32m    351\u001b[0m             \u001b[0mresults_reader_completion_time\u001b[0m \u001b[0;34m=\u001b[0m \u001b[0mtime\u001b[0m\u001b[0;34m.\u001b[0m\u001b[0mtime\u001b[0m\u001b[0;34m(\u001b[0m\u001b[0;34m)\u001b[0m\u001b[0;34m\u001b[0m\u001b[0m\n\u001b[1;32m    352\u001b[0m             \u001b[0;32mif\u001b[0m \u001b[0mself\u001b[0m\u001b[0;34m.\u001b[0m\u001b[0m_report_timing\u001b[0m \u001b[0;32mis\u001b[0m \u001b[0;32mTrue\u001b[0m\u001b[0;34m:\u001b[0m\u001b[0;34m\u001b[0m\u001b[0m\n",
      "\u001b[0;32m/Library/Frameworks/Python.framework/Versions/3.6/lib/python3.6/site-packages/pyomo/opt/plugins/sol.py\u001b[0m in \u001b[0;36m__call__\u001b[0;34m(self, filename, res, soln, suffixes)\u001b[0m\n\u001b[1;32m     44\u001b[0m         \"\"\"\n\u001b[1;32m     45\u001b[0m         \u001b[0;32mtry\u001b[0m\u001b[0;34m:\u001b[0m\u001b[0;34m\u001b[0m\u001b[0m\n\u001b[0;32m---> 46\u001b[0;31m             \u001b[0;32mwith\u001b[0m \u001b[0mopen\u001b[0m\u001b[0;34m(\u001b[0m\u001b[0mfilename\u001b[0m\u001b[0;34m,\u001b[0m\u001b[0;34m\"r\"\u001b[0m\u001b[0;34m)\u001b[0m \u001b[0;32mas\u001b[0m \u001b[0mf\u001b[0m\u001b[0;34m:\u001b[0m\u001b[0;34m\u001b[0m\u001b[0m\n\u001b[0m\u001b[1;32m     47\u001b[0m                 \u001b[0;32mreturn\u001b[0m \u001b[0mself\u001b[0m\u001b[0;34m.\u001b[0m\u001b[0m_load\u001b[0m\u001b[0;34m(\u001b[0m\u001b[0mf\u001b[0m\u001b[0;34m,\u001b[0m \u001b[0mres\u001b[0m\u001b[0;34m,\u001b[0m \u001b[0msoln\u001b[0m\u001b[0;34m,\u001b[0m \u001b[0msuffixes\u001b[0m\u001b[0;34m)\u001b[0m\u001b[0;34m\u001b[0m\u001b[0m\n\u001b[1;32m     48\u001b[0m         \u001b[0;32mexcept\u001b[0m \u001b[0mValueError\u001b[0m \u001b[0;32mas\u001b[0m \u001b[0me\u001b[0m\u001b[0;34m:\u001b[0m\u001b[0;34m\u001b[0m\u001b[0m\n",
      "\u001b[0;31mFileNotFoundError\u001b[0m: [Errno 2] No such file or directory: '/var/folders/w9/sxcp2ljj4wq3fdhy78rf5djh0000gn/T/tmp4l1jtxf1.pyomo.sol'"
     ]
    }
   ],
   "source": [
    "solver = po.SolverFactory('SCIP')\n",
    "#model.setPresolve(SCIP_PARAMSETTING.OFF) # deactivate preprocessing\n",
    "#model.setHeuristics(SCIP_PARAMSETTING.OFF) # deactivate heuristics\n",
    "#model.disablePropagation() # deactivate preprocessing at nodes\n",
    "#model.setCharParam(\"lp/initalgorithm\", \"p\") \n",
    "#m.setParam(\"limits/gap\", 1.0) # solving stops, if the relative gap = |primal - dual|/MIN(|dual|,|primal|) is below the given value\n",
    "#m.setParam(\"limits/memory\",32000) # maximal memory usage in MB; reported memory usage is lower than real memory usage! default: 8796093022208\n",
    "#m.setParam(\"limits/time\", 10) # maximal time in seconds to run\n",
    "solver.options[\"lp/initalgorithm\"] = \"p\"\n",
    "results = solver.solve(model)"
   ]
  },
  {
   "cell_type": "markdown",
   "metadata": {},
   "source": [
    "## The Value of the Dual and Slack variables\n",
    "\n",
    "The value of the dual and slack variables can be accessed by importing further information from the models. This has to be specified via [Suffixes](https://pyomo.readthedocs.io/en/stable/pyomo_modeling_components/Suffixes.html) and declared right after the instantiation of the `ConcreteModel`. Then the value of the dual variables is associated to the constraints of the model:"
   ]
  },
  {
   "cell_type": "code",
   "execution_count": 57,
   "metadata": {},
   "outputs": [
    {
     "name": "stdout",
     "output_type": "stream",
     "text": [
      "WARNING: Implicitly replacing the Component attribute dual (type=<class\n",
      "    'pyomo.core.base.suffix.Suffix'>) on block prod with a new Component\n",
      "    (type=<class 'pyomo.core.base.suffix.Suffix'>). This is usually indicative\n",
      "    of a modelling error. To avoid this warning, use block.del_component() and\n",
      "    block.add_component().\n"
     ]
    }
   ],
   "source": [
    "model.dual = po.Suffix(direction=po.Suffix.IMPORT)\n",
    "solver = po.SolverFactory('glpk')\n",
    "results = solver.solve(model)"
   ]
  },
  {
   "cell_type": "code",
   "execution_count": 59,
   "metadata": {},
   "outputs": [
    {
     "name": "stdout",
     "output_type": "stream",
     "text": [
      "Constraint  value  lslack  uslack    dual\n",
      "demand      60.00     inf    0.00    0.20\n",
      "laborA      38.00     inf    2.00    0.00\n",
      "laborB      50.00     inf    0.00    1.00\n"
     ]
    }
   ],
   "source": [
    "fstr = \"   {0:7.2f} {1:7.2f} {2:7.2f} {3:7.2f}\"\n",
    "\n",
    "print(\"Constraint  value  lslack  uslack    dual\")\n",
    "for c in [model.demand, model.laborA, model.laborB]:\n",
    "    print(c, fstr.format(c(), c.lslack(), c.uslack(),model.dual[c]))"
   ]
  },
  {
   "cell_type": "code",
   "execution_count": null,
   "metadata": {},
   "outputs": [],
   "source": []
  }
 ],
 "metadata": {
  "kernelspec": {
   "display_name": "Python 3",
   "language": "python",
   "name": "python3"
  },
  "language_info": {
   "codemirror_mode": {
    "name": "ipython",
    "version": 3
   },
   "file_extension": ".py",
   "mimetype": "text/x-python",
   "name": "python",
   "nbconvert_exporter": "python",
   "pygments_lexer": "ipython3",
   "version": "3.6.4"
  }
 },
 "nbformat": 4,
 "nbformat_minor": 2
}

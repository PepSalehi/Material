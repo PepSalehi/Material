{
 "cells": [
  {
   "cell_type": "markdown",
   "metadata": {},
   "source": [
    "### This solution notebook is not yet finished and things do not work yet as they should. "
   ]
  },
  {
   "cell_type": "markdown",
   "metadata": {},
   "source": [
    "### Task 1"
   ]
  },
  {
   "cell_type": "markdown",
   "metadata": {},
   "source": [
    "Since there is only one set of constraints it is not difficult to choose which constraints to relax.\n",
    "$$\n",
    "\\begin{array}[ll]\n",
    "\\text{min} &\\sum_{j=1}^n[c_j - \\sum_{i=1}^n \\lambda_i a_{ij}]x_j + \\sum^n_{j=1}\\lambda_i\\\\\n",
    "\\text{s.t.}&x_j\\in \\{0,1\\} \\qquad j=1,...,n \n",
    "\\end{array}\n",
    "$$"
   ]
  },
  {
   "cell_type": "markdown",
   "metadata": {},
   "source": [
    "Defining $C_j = [c_j - \\sum_{i=1}^m \\lambda_i a_{ij}]$ $j=1,...,n$\n",
    "i.e. $C_j$ is the coefficient of $x_j$ in the objective function of LR we have that LR becomes:\n",
    "$$\n",
    "\\begin{array}[ll]\n",
    "\\text{min} &\\sum_j(C_jx_j + \\lambda_i)\\\\\n",
    "\\text{s.t.}& x_j\\in \\{0,1\\} \\qquad j=1,...,n \n",
    "\\end{array}\n",
    "$$"
   ]
  },
  {
   "cell_type": "markdown",
   "metadata": {},
   "source": [
    "Now the solution ($x_j$) to LR can be found by inspection, namely: \n",
    "$$\n",
    "x_j=\n",
    "\\begin{cases}\n",
    " 1 &if C_j \\leq 0\\\\\n",
    "  0 &otherwise\n",
    "\\end{cases}\n",
    "$$\n",
    "with the solution value ($z_{LB}$) of LR being given by:\n",
    "$$z_{LB} = C_jx_j + \\lambda_i$$\n",
    "where $z_{LB}$ is a lower bound on the optimal solution to the original SCP. "
   ]
  },
  {
   "cell_type": "code",
   "execution_count": 123,
   "metadata": {},
   "outputs": [],
   "source": [
    "import numpy as np\n",
    "from pyscipopt import Model, quicksum\n",
    "\n",
    "\n",
    "\n",
    "c = np.array([ 2,3,4,5 ])\n",
    "b = np.array([1,1,1])\n",
    "A = np.array([[ 1, 0, 1, 0 ],\n",
    "            [1, 0, 0, 1],\n",
    "            [0, 1, 1, 1]])\n",
    "\n",
    "def solve_scip():\n",
    "    # Model\n",
    "    model = Model(\"lagrangian relaxation\")\n",
    "    # Create decision variables\n",
    "    x = {}\n",
    "    for i in range(4):\n",
    "        x[i] = model.addVar(name=\"x\"+str(i), vtype=\"C\", lb=0.0, ub=None, pricedVar = False)\n",
    "    # The objective is to maximize (the default)\n",
    "    # Unecessary if we had written the obj coefficient for all vars above\n",
    "    model.setObjective(quicksum(c[i]*x[i] for i in range(4)), \"minimize\")\n",
    "    # Add constraints to the model\n",
    "    model.addCons(x[0] + x[2] >= 1, \"c1\")\n",
    "    model.addCons(x[0] + x[3] >= 1, \"c2\")\n",
    "    model.addCons(x[1] + x[2]+x[3] >= 1, \"c3\")\n",
    "    # Solve\n",
    "    model.optimize()\n",
    "    # Let’s print the solution\n",
    "    if model.getStatus() == \"optimal\":\n",
    "        z_LP = model.getObjVal()\n",
    "        x_LP = np.array([model.getVal(v) for v in model.getVars()])\n",
    "        return x_LP,z_LP\n",
    "    else:\n",
    "        print(\"Problem could not be solved to optimality\")\n",
    "        "
   ]
  },
  {
   "cell_type": "code",
   "execution_count": 124,
   "metadata": {},
   "outputs": [
    {
     "data": {
      "text/plain": [
       "(array([1., 1., 0., 0.]), 5.0)"
      ]
     },
     "execution_count": 124,
     "metadata": {},
     "output_type": "execute_result"
    }
   ],
   "source": [
    "solve_scip()"
   ]
  },
  {
   "cell_type": "code",
   "execution_count": 118,
   "metadata": {},
   "outputs": [],
   "source": [
    "\n",
    "def solve_lagrangian_scip(lambdas):\n",
    "    C = c - lambdas * A[2,:]\n",
    "    # Model\n",
    "    model = Model(\"lagrangian relaxation\")\n",
    "    # Create decision variables\n",
    "    x = {}\n",
    "    for i in range(4):\n",
    "        x[i] = model.addVar(name=\"x\"+str(i), vtype=\"C\", lb=0.0, ub=None, pricedVar = False)\n",
    "    # The objective is to maximize (the default)\n",
    "    # Unecessary if we had written the obj coefficient for all vars above\n",
    "    model.setObjective(quicksum(C[i]*x[i] for i in range(4))+lambdas, \"minimize\")\n",
    "    # Add constraints to the model\n",
    "    model.addCons(x[0] + x[2] >= 1, \"c1\")\n",
    "    model.addCons(x[0] + x[3] >= 1, \"c2\")\n",
    "    # Solve\n",
    "    model.optimize()\n",
    "    # Let’s print the solution\n",
    "    if model.getStatus() == \"optimal\":\n",
    "        z_LLBP = model.getObjVal()\n",
    "        x_LLBP = np.array([model.getVal(v) for v in model.getVars()])\n",
    "        return x_LLBP,z_LLBP\n",
    "    else:\n",
    "        print(\"Problem could not be solved to optimality\")\n",
    "        \n",
    "    "
   ]
  },
  {
   "cell_type": "markdown",
   "metadata": {},
   "source": [
    "### Task 2"
   ]
  },
  {
   "cell_type": "markdown",
   "metadata": {},
   "source": [
    "A common fallacy in Lagrangean relaxation is to believe that, if the solution to LR\n",
    "is feasible for the original problem, then it is also optimal for the original problem.\n",
    "This is incorrect. "
   ]
  },
  {
   "cell_type": "code",
   "execution_count": 125,
   "metadata": {},
   "outputs": [
    {
     "name": "stdout",
     "output_type": "stream",
     "text": [
      "[2 2 3 4]\n"
     ]
    },
    {
     "data": {
      "text/plain": [
       "(array([1., 0., 0., 0.]), 3.0)"
      ]
     },
     "execution_count": 125,
     "metadata": {},
     "output_type": "execute_result"
    }
   ],
   "source": [
    "lambdas = 1\n",
    "solve_lagrangian_scip(lambdas)"
   ]
  },
  {
   "cell_type": "code",
   "execution_count": 126,
   "metadata": {},
   "outputs": [
    {
     "name": "stdout",
     "output_type": "stream",
     "text": [
      "[2 1 2 3]\n"
     ]
    },
    {
     "data": {
      "text/plain": [
       "(array([1., 0., 0., 0.]), 4.0)"
      ]
     },
     "execution_count": 126,
     "metadata": {},
     "output_type": "execute_result"
    }
   ],
   "source": [
    "lambdas = 2\n",
    "solve_lagrangian_scip(lambdas)"
   ]
  },
  {
   "cell_type": "code",
   "execution_count": 101,
   "metadata": {},
   "outputs": [
    {
     "ename": "ValueError",
     "evalue": "shapes (1,) and (4,) not aligned: 1 (dim 0) != 4 (dim 0)",
     "output_type": "error",
     "traceback": [
      "\u001b[0;31m---------------------------------------------------------------------------\u001b[0m",
      "\u001b[0;31mValueError\u001b[0m                                Traceback (most recent call last)",
      "\u001b[0;32m<ipython-input-101-5385d10d4576>\u001b[0m in \u001b[0;36m<module>\u001b[0;34m()\u001b[0m\n\u001b[0;32m----> 1\u001b[0;31m \u001b[0mlambdas\u001b[0m\u001b[0;34m@\u001b[0m\u001b[0mA\u001b[0m\u001b[0;34m[\u001b[0m\u001b[0;36m2\u001b[0m\u001b[0;34m,\u001b[0m\u001b[0;34m:\u001b[0m\u001b[0;34m]\u001b[0m\u001b[0;34m\u001b[0m\u001b[0m\n\u001b[0m",
      "\u001b[0;31mValueError\u001b[0m: shapes (1,) and (4,) not aligned: 1 (dim 0) != 4 (dim 0)"
     ]
    }
   ],
   "source": []
  },
  {
   "cell_type": "markdown",
   "metadata": {},
   "source": [
    "A solution $x$ to a Lagrangean lower bound program is only optimal for the\n",
    "original problem if:\n",
    "(a) $x$ is feasible for the original problem; and\n",
    "(b) $cx = [cX + \\lambda(b - AX)]$ i.e. $\\lambda(b - Ax) = 0$\n",
    "If we are relaxing equality\n",
    "constraints ($Ax=b$) then any solution to the lagrangean lower bound program which is\n",
    "feasible for the original problem automatically satisfies both (a) and (b) above and so is\n",
    "optimal. "
   ]
  },
  {
   "cell_type": "markdown",
   "metadata": {},
   "source": [
    "### Task 4"
   ]
  },
  {
   "cell_type": "code",
   "execution_count": 88,
   "metadata": {},
   "outputs": [],
   "source": [
    "def heuristic_sol(x):\n",
    "    x_h=np.copy(x)\n",
    "    covered = A @ x_h-b >= 1\n",
    "    for i in range(len(covered)):\n",
    "        if not covered[i]:\n",
    "            for j in range(len(A[i,:])):\n",
    "                if A[i,j] >0:\n",
    "                    x_h[j]=1\n",
    "                    break\n",
    "    z_UB = c @ x_h\n",
    "    #print(x_h,z_UB)\n",
    "    return z_UB"
   ]
  },
  {
   "cell_type": "code",
   "execution_count": 143,
   "metadata": {},
   "outputs": [],
   "source": [
    "%matplotlib inline\n",
    "import matplotlib.pyplot as plt\n",
    "\n",
    "def solve_lagrangian_dual(mu=2, iterations=10):\n",
    "    zs_LB=[]\n",
    "    zs_UB=[]\n",
    "    lambdas_ = []\n",
    "    lambdas = 0\n",
    "    for t in range(iterations):\n",
    "        x, z_LLBP = solve_lagrangian_scip(lambdas)\n",
    "        z_UB = heuristic_sol(x)\n",
    "        gamma = b[2] - A[2,:] @ x\n",
    "        theta = mu * ( z_UB - z_LLBP )/(gamma**2)\n",
    "        lambdas = max(lambdas + theta * gamma, 0)\n",
    "        zs_UB.append(z_UB); zs_LB.append(z_LLBP); lambdas_.append(lambdas)\n",
    "    \n",
    "    plt.subplot(2, 1, 1)\n",
    "    plt.plot(range(iterations), zs, 'o-')\n",
    "    plt.ylabel('z_LLBP')\n",
    "    plt.xlabel('iteration')\n",
    "\n",
    "    plt.subplot(2, 1, 2)\n",
    "    plt.plot(range(iterations), lambdas_, 'o-')\n",
    "    plt.xlabel('iteration')\n",
    "    plt.ylabel('lambda')"
   ]
  },
  {
   "cell_type": "code",
   "execution_count": 144,
   "metadata": {},
   "outputs": [
    {
     "name": "stdout",
     "output_type": "stream",
     "text": [
      "[2 3 4 5]\n",
      "[ 2. -3. -2. -1.]\n",
      "Problem could not be solved to optimality\n"
     ]
    },
    {
     "ename": "TypeError",
     "evalue": "'NoneType' object is not iterable",
     "output_type": "error",
     "traceback": [
      "\u001b[0;31m---------------------------------------------------------------------------\u001b[0m",
      "\u001b[0;31mTypeError\u001b[0m                                 Traceback (most recent call last)",
      "\u001b[0;32m<ipython-input-144-7dead53a9ae5>\u001b[0m in \u001b[0;36m<module>\u001b[0;34m()\u001b[0m\n\u001b[0;32m----> 1\u001b[0;31m \u001b[0msolve_lagrangian_dual\u001b[0m\u001b[0;34m(\u001b[0m\u001b[0;34m)\u001b[0m\u001b[0;34m\u001b[0m\u001b[0m\n\u001b[0m",
      "\u001b[0;32m<ipython-input-143-18f4349edfbb>\u001b[0m in \u001b[0;36msolve_lagrangian_dual\u001b[0;34m(mu, iterations)\u001b[0m\n\u001b[1;32m      8\u001b[0m     \u001b[0mlambdas\u001b[0m \u001b[0;34m=\u001b[0m \u001b[0;36m0\u001b[0m\u001b[0;34m\u001b[0m\u001b[0m\n\u001b[1;32m      9\u001b[0m     \u001b[0;32mfor\u001b[0m \u001b[0mt\u001b[0m \u001b[0;32min\u001b[0m \u001b[0mrange\u001b[0m\u001b[0;34m(\u001b[0m\u001b[0miterations\u001b[0m\u001b[0;34m)\u001b[0m\u001b[0;34m:\u001b[0m\u001b[0;34m\u001b[0m\u001b[0m\n\u001b[0;32m---> 10\u001b[0;31m         \u001b[0mx\u001b[0m\u001b[0;34m,\u001b[0m \u001b[0mz_LLBP\u001b[0m \u001b[0;34m=\u001b[0m \u001b[0msolve_lagrangian_scip\u001b[0m\u001b[0;34m(\u001b[0m\u001b[0mlambdas\u001b[0m\u001b[0;34m)\u001b[0m\u001b[0;34m\u001b[0m\u001b[0m\n\u001b[0m\u001b[1;32m     11\u001b[0m         \u001b[0mz_UB\u001b[0m \u001b[0;34m=\u001b[0m \u001b[0mheuristic_sol\u001b[0m\u001b[0;34m(\u001b[0m\u001b[0mx\u001b[0m\u001b[0;34m)\u001b[0m\u001b[0;34m\u001b[0m\u001b[0m\n\u001b[1;32m     12\u001b[0m         \u001b[0mgamma\u001b[0m \u001b[0;34m=\u001b[0m \u001b[0mb\u001b[0m\u001b[0;34m[\u001b[0m\u001b[0;36m2\u001b[0m\u001b[0;34m]\u001b[0m \u001b[0;34m-\u001b[0m \u001b[0mA\u001b[0m\u001b[0;34m[\u001b[0m\u001b[0;36m2\u001b[0m\u001b[0;34m,\u001b[0m\u001b[0;34m:\u001b[0m\u001b[0;34m]\u001b[0m \u001b[0;34m@\u001b[0m \u001b[0mx\u001b[0m\u001b[0;34m\u001b[0m\u001b[0m\n",
      "\u001b[0;31mTypeError\u001b[0m: 'NoneType' object is not iterable"
     ]
    }
   ],
   "source": [
    "solve_lagrangian_dual()"
   ]
  },
  {
   "cell_type": "code",
   "execution_count": 74,
   "metadata": {},
   "outputs": [],
   "source": []
  },
  {
   "cell_type": "markdown",
   "metadata": {},
   "source": [
    "# Task 2\n",
    "\n",
    "We consider the following problem (Fisher M., [An Applications Oriented\n",
    "Guide to Lagrangian Relaxation](http://www.cs.uleth.ca/~benkoczi/OR/read/lagrange-relax-introduct-fisher85.pdf) Interfaces, 15:2, 1985):\n",
    "\n",
    "$$\n",
    "\\begin{array}{lllll}\n",
    " z_P=&\\text{max} &16x_1+10x_2+4x_4\\\\\n",
    "&\\text{s.t.}&8x_1+2x_2+x_3+x_4\\leq 10\\\\\n",
    "&&x_1+x_2\\leq 1\\\\\n",
    "&&x_3+x_4\\leq 1\\\\\n",
    "&&0\\leq x\\leq 1 \\qquad \\text{and integer}\n",
    "\\end{array}\n",
    "$$\n",
    "\n",
    "There are three major questions to design a Lagrangian-relaxation-based system:\n",
    "a. which constraints should be relaxaed\n",
    "b. how to compute good multipliers $\\lambda$\n",
    "c. how to deduce a good feasible solution to the original problem, given a solution to the Lagrangian relaxation problem.\n",
    "\n",
    "The answers are:\n",
    "a. those whose relaxation makes the problem significantly easy but not too easy\n",
    "b. subgradient procedure\n",
    "c. problem specific heuristics\n"
   ]
  },
  {
   "cell_type": "markdown",
   "metadata": {},
   "source": [
    "## Subtask 2.1\n",
    "If we relax the first constraint with multiplier $\\lambda\\geq 0$ the corresponding Lagrangian relaxation problem becomes:\n",
    "\n",
    "$$\n",
    "\\begin{array}{lllll}\n",
    " z_P=&\\text{max} &(16-8\\lambda)x_1+(10-2\\lambda)x_2+(0-\\lambda)x_3+(4-4\\lambda)x_4+10\\lambda\\\\\n",
    "&\\text{s.t.}&x_1+x_2\\leq 1\\\\\n",
    "&&x_3+x_4\\leq 1\\\\\n",
    "&&0\\leq x\\leq 1 \\qquad \\text{and integer}\n",
    "\\end{array}\n",
    "$$\n",
    "\n",
    "\n",
    "For a given $\\lambda$ we could solve the problem by inspection: \n",
    "- between $x_1$ and $x_2$ set to 1 the variable with the largest cost coefficient in the objective function; \n",
    "- between $x_1$ and $x_2$ set to 1 the variable with the largest cost coefficient in the objective function.\n",
    "However let's use the SCIP procedure developed above."
   ]
  },
  {
   "cell_type": "code",
   "execution_count": 3,
   "metadata": {},
   "outputs": [
    {
     "ename": "NameError",
     "evalue": "name 'np' is not defined",
     "output_type": "error",
     "traceback": [
      "\u001b[0;31m---------------------------------------------------------------------------\u001b[0m",
      "\u001b[0;31mNameError\u001b[0m                                 Traceback (most recent call last)",
      "\u001b[0;32m<ipython-input-3-6913e55e51cc>\u001b[0m in \u001b[0;36m<module>\u001b[0;34m()\u001b[0m\n\u001b[1;32m      3\u001b[0m \u001b[0;34m\u001b[0m\u001b[0m\n\u001b[1;32m      4\u001b[0m \u001b[0;34m\u001b[0m\u001b[0m\n\u001b[0;32m----> 5\u001b[0;31m \u001b[0mc\u001b[0m \u001b[0;34m=\u001b[0m \u001b[0mnp\u001b[0m\u001b[0;34m.\u001b[0m\u001b[0marray\u001b[0m\u001b[0;34m(\u001b[0m\u001b[0;34m[\u001b[0m \u001b[0;36m16\u001b[0m\u001b[0;34m,\u001b[0m\u001b[0;36m10\u001b[0m\u001b[0;34m,\u001b[0m\u001b[0;36m0\u001b[0m\u001b[0;34m,\u001b[0m\u001b[0;36m4\u001b[0m \u001b[0;34m]\u001b[0m\u001b[0;34m)\u001b[0m\u001b[0;34m\u001b[0m\u001b[0;34m\u001b[0m\u001b[0m\n\u001b[0m\u001b[1;32m      6\u001b[0m \u001b[0mb\u001b[0m \u001b[0;34m=\u001b[0m \u001b[0mnp\u001b[0m\u001b[0;34m.\u001b[0m\u001b[0marray\u001b[0m\u001b[0;34m(\u001b[0m\u001b[0;34m[\u001b[0m\u001b[0;36m10\u001b[0m\u001b[0;34m,\u001b[0m\u001b[0;36m1\u001b[0m\u001b[0;34m,\u001b[0m\u001b[0;36m1\u001b[0m\u001b[0;34m]\u001b[0m\u001b[0;34m)\u001b[0m\u001b[0;34m\u001b[0m\u001b[0;34m\u001b[0m\u001b[0m\n\u001b[1;32m      7\u001b[0m A = np.array([[ 8, 2, 1, 1 ],\n",
      "\u001b[0;31mNameError\u001b[0m: name 'np' is not defined"
     ]
    }
   ],
   "source": [
    "import numpy as ny\n",
    "from pyscipopt import Model\n",
    "\n",
    "\n",
    "c = np.array([ 16,10,0,4 ])\n",
    "b = np.array([10,1,1])\n",
    "A = np.array([[ 8, 2, 1, 1 ],\n",
    "            [1, 1, 0, 0],\n",
    "            [0, 0, 1, 1]])\n",
    "\n",
    "\n",
    "\n",
    "def solve_scip():\n",
    "    # Model\n",
    "    model = Model(\"lagrangian relaxation\")\n",
    "    # Create decision variables\n",
    "    \n",
    "    for i in range(4):\n",
    "        col = model.Column()\n",
    "        for j in range(3):\n",
    "            col.addTerms(A[i,j])\n",
    "        x[i] = model.addVar(name=\"x\"+str(i), vtype=\"C\", lb=0.0, ub=None, pricedVar = False, column=col)\n",
    "    \n",
    "    model.update()\n",
    "    model.writeProblem(\"prob.lp\")\n",
    "    # The objective is to maximize (the default)\n",
    "    # Unecessary if we had written the obj coefficient for all vars above\n",
    "    model.setObjective(quicksum(c[i]*x[i] for i in range(4)), \"maximize\")\n",
    "\n",
    "    # Solve\n",
    "    model.optimize()\n",
    "    # Let’s print the solution\n",
    "    if model.getStatus() == \"optimal\":\n",
    "        z_LP = model.getObjVal()\n",
    "        x_LP = np.array([model.getVal(v) for v in model.getVars()])\n",
    "        return x_LP,z_LP\n",
    "    else:\n",
    "        print(\"Problem could not be solved to optimality\")\n",
    "        "
   ]
  }
 ],
 "metadata": {
  "kernelspec": {
   "display_name": "Python 3",
   "language": "python",
   "name": "python3"
  },
  "language_info": {
   "codemirror_mode": {
    "name": "ipython",
    "version": 3
   },
   "file_extension": ".py",
   "mimetype": "text/x-python",
   "name": "python",
   "nbconvert_exporter": "python",
   "pygments_lexer": "ipython3",
   "version": "3.6.4"
  }
 },
 "nbformat": 4,
 "nbformat_minor": 2
}

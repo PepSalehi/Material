{
 "cells": [
  {
   "cell_type": "markdown",
   "metadata": {},
   "source": [
    "### This solution notebook is not yet finished and things do not work yet as they should. "
   ]
  },
  {
   "cell_type": "markdown",
   "metadata": {},
   "source": [
    "### Task 1"
   ]
  },
  {
   "cell_type": "markdown",
   "metadata": {},
   "source": [
    "Since there is only one set of constraints it is not difficult to choose which constraints to relax.\n",
    "$$\n",
    "\\begin{aligned}\n",
    "z_{LB}=\\min &\\sum_{j=1}^n[c_j - \\sum_{i=1}^n \\lambda_i a_{ij}]x_j + \\sum^n_{j=1}\\lambda_i\\\\\n",
    "&x_j\\in \\{0,1\\} \\qquad j=1,...,n \n",
    "\\end{aligned}\n",
    "$$"
   ]
  },
  {
   "cell_type": "markdown",
   "metadata": {},
   "source": [
    "Defining $C_j = [c_j - \\sum_{i=1}^m \\lambda_i a_{ij}]$ $j=1,...,n$\n",
    "i.e. $C_j$ is the coefficient of $x_j$ in the objective function of LR we have that LR becomes:\n",
    "$$\n",
    "\\begin{aligned}\n",
    "z_{LB}=\\min &\\sum_j(C_jx_j + \\lambda_i)\\\\\n",
    "& x_j\\in \\{0,1\\} \\qquad j=1,...,n \n",
    "\\end{aligned}\n",
    "$$"
   ]
  },
  {
   "cell_type": "markdown",
   "metadata": {},
   "source": [
    "Now the solution $x_j$ to LR can be found by inspection, namely: \n",
    "$$\n",
    "x_j=\n",
    "\\begin{cases}\n",
    " 1 &if C_j \\leq 0\\\\\n",
    "  0 &\\text{otherwise}\n",
    "\\end{cases}\n",
    "$$\n",
    "with the solution value $z_{LB}$ of LR being given by:\n",
    "$$z_{LB} = C_jx_j + \\lambda_i$$\n",
    "where $z_{LB}$ is a lower bound on the optimal solution to the original SCP. "
   ]
  },
  {
   "cell_type": "code",
   "execution_count": 26,
   "metadata": {},
   "outputs": [],
   "source": [
    "import numpy as np\n",
    "import pyomo.environ as po\n",
    "\n",
    "c = np.array([ 2,3,4,5 ])\n",
    "b = np.array([1,1,1])\n",
    "A = np.array([[ 1, 0, 1, 0 ],\n",
    "            [1, 0, 0, 1],\n",
    "            [0, 1, 1, 1]])\n",
    "\n",
    "def solve_SCP(vtype=po.Binary):\n",
    "    # Model\n",
    "    model = po.ConcreteModel(\"SCP\")\n",
    "    # Create decision variables\n",
    "    model.x = po.Var(range(4), bounds=(0,1), domain=vtype)\n",
    "  \n",
    "    # The objective is to minimize\n",
    "    model.z = po.Objective(expr=sum(c[i]*model.x[i] for i in range(4)), sense=po.minimize)\n",
    "    # Add constraints to the model\n",
    "    model.c1 = po.Constraint(expr=model.x[0] + model.x[2] >= 1)\n",
    "    model.c2 = po.Constraint(expr=model.x[0] + model.x[3] >= 1)\n",
    "    model.c3 = po.Constraint(expr=model.x[1] + model.x[2] + model.x[3] >= 1)\n",
    "    # Solve\n",
    "    solver = po.SolverFactory('glpk')\n",
    "    results = solver.solve(model)\n",
    "    \n",
    "    # Let’s print the solution\n",
    "    if results.Solver.status == po.SolverStatus.ok:\n",
    "        x = [v() for v in model.component_data_objects(po.Var, active=True)]\n",
    "        return x, model.z()\n",
    "    else:\n",
    "        print(\"Problem could not be solved to optimality\")"
   ]
  },
  {
   "cell_type": "code",
   "execution_count": 27,
   "metadata": {},
   "outputs": [
    {
     "data": {
      "text/plain": [
       "([1.0, 1.0, 0.0, 0.0], 5.0)"
      ]
     },
     "execution_count": 27,
     "metadata": {},
     "output_type": "execute_result"
    }
   ],
   "source": [
    "solve_SCP()"
   ]
  },
  {
   "cell_type": "code",
   "execution_count": 38,
   "metadata": {},
   "outputs": [],
   "source": [
    "def solve_lagrangian(lambdas):\n",
    "    C = c - lambdas * A[2,:]\n",
    "    # Model\n",
    "    model = po.ConcreteModel(\"LR\")\n",
    "    # Create decision variables\n",
    "    model.x = po.Var(range(4), bounds=(0,1), domain=po.Binary)\n",
    "\n",
    "    model.z_LR = po.Objective(expr=sum(C[i]*model.x[i] for i in range(4))+lambdas, sense=po.minimize)\n",
    "    # Add constraints to the model\n",
    "    model.c1 = po.Constraint(expr=model.x[0] + model.x[2] >= 1)\n",
    "    model.c3 = po.Constraint(expr=model.x[1] + model.x[2] + model.x[3] >= 1)\n",
    "\n",
    "    # Solve\n",
    "    solver = po.SolverFactory('glpk')\n",
    "    results = solver.solve(model)\n",
    "    \n",
    "    # Let’s print the solution\n",
    "    if results.Solver.status == po.SolverStatus.ok:\n",
    "        x_LR = [v() for v in model.component_data_objects(po.Var, active=True)]\n",
    "        return x_LR, model.z_LR()\n",
    "    else:\n",
    "        print(\"Problem could not be solved to optimality\")"
   ]
  },
  {
   "cell_type": "code",
   "execution_count": 39,
   "metadata": {},
   "outputs": [
    {
     "data": {
      "text/plain": [
       "([0.0, 0.0, 1.0, 0.0], 4.0)"
      ]
     },
     "execution_count": 39,
     "metadata": {},
     "output_type": "execute_result"
    }
   ],
   "source": [
    "solve_lagrangian(1.5)"
   ]
  },
  {
   "cell_type": "markdown",
   "metadata": {},
   "source": [
    "### Task 2"
   ]
  },
  {
   "cell_type": "markdown",
   "metadata": {},
   "source": [
    "A common fallacy in Lagrangean relaxation is to believe that, if the solution to LR\n",
    "is feasible for the original problem, then it is also optimal for the original problem.\n",
    "This is incorrect. "
   ]
  },
  {
   "cell_type": "code",
   "execution_count": 40,
   "metadata": {},
   "outputs": [
    {
     "data": {
      "text/plain": [
       "([0.0, 0.0, 1.0, 0.0], 4.0)"
      ]
     },
     "execution_count": 40,
     "metadata": {},
     "output_type": "execute_result"
    }
   ],
   "source": [
    "solve_lagrangian(lambdas=1)"
   ]
  },
  {
   "cell_type": "code",
   "execution_count": 42,
   "metadata": {},
   "outputs": [
    {
     "data": {
      "text/plain": [
       "([0.0, 0.0, 1.0, 0.0], 4.0)"
      ]
     },
     "execution_count": 42,
     "metadata": {},
     "output_type": "execute_result"
    }
   ],
   "source": [
    "solve_lagrangian(lambdas=2)"
   ]
  },
  {
   "cell_type": "markdown",
   "metadata": {},
   "source": [
    "A solution $x$ to a Lagrangean lower bound program is only optimal for the\n",
    "original problem if:\n",
    "\n",
    "1. $x$ is feasible for the original problem; and\n",
    "\n",
    "2. $cx = [cX + \\lambda(b - AX)]$ i.e. $\\lambda(b - Ax) = 0$\n",
    "\n",
    "If we are relaxing equality\n",
    "constraints ($Ax=b$) then any solution to the lagrangean lower bound program which is\n",
    "feasible for the original problem automatically satisfies both 1. and 2. above and so is\n",
    "optimal. "
   ]
  },
  {
   "cell_type": "markdown",
   "metadata": {},
   "source": [
    "### Task 4"
   ]
  },
  {
   "cell_type": "code",
   "execution_count": 88,
   "metadata": {},
   "outputs": [],
   "source": [
    "def heuristic_sol(x):\n",
    "    x_h=np.copy(x)\n",
    "    covered = A @ x_h-b >= 1\n",
    "    for i in range(len(covered)):\n",
    "        if not covered[i]:\n",
    "            for j in range(len(A[i,:])):\n",
    "                if A[i,j] >0:\n",
    "                    x_h[j]=1\n",
    "                    break\n",
    "    z_UB = c @ x_h\n",
    "    #print(x_h,z_UB)\n",
    "    return z_UB"
   ]
  },
  {
   "cell_type": "code",
   "execution_count": 143,
   "metadata": {},
   "outputs": [],
   "source": [
    "%matplotlib inline\n",
    "import matplotlib.pyplot as plt\n",
    "\n",
    "def solve_lagrangian_dual(mu=2, iterations=10):\n",
    "    zs_LB=[]\n",
    "    zs_UB=[]\n",
    "    lambdas_ = []\n",
    "    lambdas = 0\n",
    "    for t in range(iterations):\n",
    "        x, z_LLBP = solve_lagrangian_scip(lambdas)\n",
    "        z_UB = heuristic_sol(x)\n",
    "        gamma = b[2] - A[2,:] @ x\n",
    "        theta = mu * ( z_UB - z_LLBP )/(gamma**2)\n",
    "        lambdas = max(lambdas + theta * gamma, 0)\n",
    "        zs_UB.append(z_UB); zs_LB.append(z_LLBP); lambdas_.append(lambdas)\n",
    "    \n",
    "    plt.subplot(2, 1, 1)\n",
    "    plt.plot(range(iterations), zs, 'o-')\n",
    "    plt.ylabel('z_LLBP')\n",
    "    plt.xlabel('iteration')\n",
    "\n",
    "    plt.subplot(2, 1, 2)\n",
    "    plt.plot(range(iterations), lambdas_, 'o-')\n",
    "    plt.xlabel('iteration')\n",
    "    plt.ylabel('lambda')"
   ]
  },
  {
   "cell_type": "code",
   "execution_count": 144,
   "metadata": {},
   "outputs": [
    {
     "name": "stdout",
     "output_type": "stream",
     "text": [
      "[2 3 4 5]\n",
      "[ 2. -3. -2. -1.]\n",
      "Problem could not be solved to optimality\n"
     ]
    },
    {
     "ename": "TypeError",
     "evalue": "'NoneType' object is not iterable",
     "output_type": "error",
     "traceback": [
      "\u001b[0;31m---------------------------------------------------------------------------\u001b[0m",
      "\u001b[0;31mTypeError\u001b[0m                                 Traceback (most recent call last)",
      "\u001b[0;32m<ipython-input-144-7dead53a9ae5>\u001b[0m in \u001b[0;36m<module>\u001b[0;34m()\u001b[0m\n\u001b[0;32m----> 1\u001b[0;31m \u001b[0msolve_lagrangian_dual\u001b[0m\u001b[0;34m(\u001b[0m\u001b[0;34m)\u001b[0m\u001b[0;34m\u001b[0m\u001b[0m\n\u001b[0m",
      "\u001b[0;32m<ipython-input-143-18f4349edfbb>\u001b[0m in \u001b[0;36msolve_lagrangian_dual\u001b[0;34m(mu, iterations)\u001b[0m\n\u001b[1;32m      8\u001b[0m     \u001b[0mlambdas\u001b[0m \u001b[0;34m=\u001b[0m \u001b[0;36m0\u001b[0m\u001b[0;34m\u001b[0m\u001b[0m\n\u001b[1;32m      9\u001b[0m     \u001b[0;32mfor\u001b[0m \u001b[0mt\u001b[0m \u001b[0;32min\u001b[0m \u001b[0mrange\u001b[0m\u001b[0;34m(\u001b[0m\u001b[0miterations\u001b[0m\u001b[0;34m)\u001b[0m\u001b[0;34m:\u001b[0m\u001b[0;34m\u001b[0m\u001b[0m\n\u001b[0;32m---> 10\u001b[0;31m         \u001b[0mx\u001b[0m\u001b[0;34m,\u001b[0m \u001b[0mz_LLBP\u001b[0m \u001b[0;34m=\u001b[0m \u001b[0msolve_lagrangian_scip\u001b[0m\u001b[0;34m(\u001b[0m\u001b[0mlambdas\u001b[0m\u001b[0;34m)\u001b[0m\u001b[0;34m\u001b[0m\u001b[0m\n\u001b[0m\u001b[1;32m     11\u001b[0m         \u001b[0mz_UB\u001b[0m \u001b[0;34m=\u001b[0m \u001b[0mheuristic_sol\u001b[0m\u001b[0;34m(\u001b[0m\u001b[0mx\u001b[0m\u001b[0;34m)\u001b[0m\u001b[0;34m\u001b[0m\u001b[0m\n\u001b[1;32m     12\u001b[0m         \u001b[0mgamma\u001b[0m \u001b[0;34m=\u001b[0m \u001b[0mb\u001b[0m\u001b[0;34m[\u001b[0m\u001b[0;36m2\u001b[0m\u001b[0;34m]\u001b[0m \u001b[0;34m-\u001b[0m \u001b[0mA\u001b[0m\u001b[0;34m[\u001b[0m\u001b[0;36m2\u001b[0m\u001b[0;34m,\u001b[0m\u001b[0;34m:\u001b[0m\u001b[0;34m]\u001b[0m \u001b[0;34m@\u001b[0m \u001b[0mx\u001b[0m\u001b[0;34m\u001b[0m\u001b[0m\n",
      "\u001b[0;31mTypeError\u001b[0m: 'NoneType' object is not iterable"
     ]
    }
   ],
   "source": [
    "solve_lagrangian_dual()"
   ]
  },
  {
   "cell_type": "code",
   "execution_count": 74,
   "metadata": {},
   "outputs": [],
   "source": []
  },
  {
   "cell_type": "markdown",
   "metadata": {},
   "source": [
    "# Task 2\n",
    "\n",
    "We consider the following problem (Fisher M., [An Applications Oriented\n",
    "Guide to Lagrangian Relaxation](http://www.cs.uleth.ca/~benkoczi/OR/read/lagrange-relax-introduct-fisher85.pdf) Interfaces, 15:2, 1985):\n",
    "\n",
    "$$\n",
    "\\begin{array}{lllll}\n",
    " z_P=&\\text{max} &16x_1+10x_2+4x_4\\\\\n",
    "&\\text{s.t.}&8x_1+2x_2+x_3+x_4\\leq 10\\\\\n",
    "&&x_1+x_2\\leq 1\\\\\n",
    "&&x_3+x_4\\leq 1\\\\\n",
    "&&0\\leq x\\leq 1 \\qquad \\text{and integer}\n",
    "\\end{array}\n",
    "$$\n",
    "\n",
    "There are three major questions to design a Lagrangian-relaxation-based system:\n",
    "a. which constraints should be relaxaed\n",
    "b. how to compute good multipliers $\\lambda$\n",
    "c. how to deduce a good feasible solution to the original problem, given a solution to the Lagrangian relaxation problem.\n",
    "\n",
    "The answers are:\n",
    "a. those whose relaxation makes the problem significantly easy but not too easy\n",
    "b. subgradient procedure\n",
    "c. problem specific heuristics\n"
   ]
  },
  {
   "cell_type": "markdown",
   "metadata": {},
   "source": [
    "## Subtask 2.1\n",
    "If we relax the first constraint with multiplier $\\lambda\\geq 0$ the corresponding Lagrangian relaxation problem becomes:\n",
    "\n",
    "$$\n",
    "\\begin{array}{lllll}\n",
    " z_P=&\\text{max} &(16-8\\lambda)x_1+(10-2\\lambda)x_2+(0-\\lambda)x_3+(4-4\\lambda)x_4+10\\lambda\\\\\n",
    "&\\text{s.t.}&x_1+x_2\\leq 1\\\\\n",
    "&&x_3+x_4\\leq 1\\\\\n",
    "&&0\\leq x\\leq 1 \\qquad \\text{and integer}\n",
    "\\end{array}\n",
    "$$\n",
    "\n",
    "\n",
    "For a given $\\lambda$ we could solve the problem by inspection: \n",
    "- between $x_1$ and $x_2$ set to 1 the variable with the largest cost coefficient in the objective function; \n",
    "- between $x_1$ and $x_2$ set to 1 the variable with the largest cost coefficient in the objective function.\n",
    "However let's use the SCIP procedure developed above."
   ]
  },
  {
   "cell_type": "code",
   "execution_count": 68,
   "metadata": {},
   "outputs": [],
   "source": [
    "import numpy as np\n",
    "import pyomo.environ as po\n",
    "\n",
    "\n",
    "c = np.array([ 16,10,0,4 ])\n",
    "b = np.array([10,1,1])\n",
    "A = np.array([[ 8, 2, 1, 4 ],\n",
    "            [1, 1, 0, 0],\n",
    "            [0, 0, 1, 1]])\n",
    "\n",
    "def solve(vtype=po.Binary):\n",
    "    # Model\n",
    "    model = po.ConcreteModel(\"Original\")\n",
    "    # Create decision variables\n",
    "    model.x = po.Var(range(4), bounds=(0,1), domain=po.Reals)\n",
    "  \n",
    "    # The objective is to minimize\n",
    "    model.z = po.Objective(expr=sum(c[j]*model.x[j] for j in range(4)), sense=po.maximize)\n",
    "    # Add constraints to the model\n",
    "    model.constraints = po.ConstraintList()\n",
    "    for i in range(3):\n",
    "        model.constraints.add(expr=sum(A[i,j]*model.x[j] for j in range(4)) <= b[i])\n",
    "    \n",
    "    model.pprint()\n",
    "    # Solve\n",
    "    solver = po.SolverFactory('glpk')\n",
    "    results = solver.solve(model, tee=True)\n",
    "    \n",
    "    # Let’s print the solution\n",
    "    if results.Solver.status == po.SolverStatus.ok:\n",
    "        x = [v() for v in model.component_data_objects(po.Var, active=True)]\n",
    "        return x, model.z()\n",
    "    else:\n",
    "        print(\"Problem could not be solved to optimality\")\n",
    "\n"
   ]
  },
  {
   "cell_type": "code",
   "execution_count": 69,
   "metadata": {},
   "outputs": [
    {
     "name": "stdout",
     "output_type": "stream",
     "text": [
      "2 Set Declarations\n",
      "    constraints_index : Dim=0, Dimen=1, Size=3, Domain=None, Ordered=False, Bounds=None\n",
      "        [1, 2, 3]\n",
      "    x_index : Dim=0, Dimen=1, Size=4, Domain=None, Ordered=False, Bounds=(0, 3)\n",
      "        [0, 1, 2, 3]\n",
      "\n",
      "1 Var Declarations\n",
      "    x : Size=4, Index=x_index\n",
      "        Key : Lower : Value : Upper : Fixed : Stale : Domain\n",
      "          0 :     0 :  None :     1 : False :  True :  Reals\n",
      "          1 :     0 :  None :     1 : False :  True :  Reals\n",
      "          2 :     0 :  None :     1 : False :  True :  Reals\n",
      "          3 :     0 :  None :     1 : False :  True :  Reals\n",
      "\n",
      "1 Objective Declarations\n",
      "    z : Size=1, Index=None, Active=True\n",
      "        Key  : Active : Sense    : Expression\n",
      "        None :   True : maximize : 16*x[0] + 10*x[1] + 4*x[3]\n",
      "\n",
      "1 Constraint Declarations\n",
      "    constraints : Size=3, Index=constraints_index, Active=True\n",
      "        Key : Lower : Body                            : Upper : Active\n",
      "          1 :  -Inf : 8*x[0] + 2*x[1] + x[2] + 4*x[3] :  10.0 :   True\n",
      "          2 :  -Inf :                     x[0] + x[1] :   1.0 :   True\n",
      "          3 :  -Inf :                     x[2] + x[3] :   1.0 :   True\n",
      "\n",
      "5 Declarations: x_index x z constraints_index constraints\n",
      "GLPSOL: GLPK LP/MIP Solver, v4.65\n",
      "Parameter(s) specified in the command line:\n",
      " --write /var/folders/w9/sxcp2ljj4wq3fdhy78rf5djh0000gn/T/tmpryouhlme.glpk.raw\n",
      " --wglp /var/folders/w9/sxcp2ljj4wq3fdhy78rf5djh0000gn/T/tmpcwpug6uf.glpk.glp\n",
      " --cpxlp /var/folders/w9/sxcp2ljj4wq3fdhy78rf5djh0000gn/T/tmpcqvpl42_.pyomo.lp\n",
      "Reading problem data from '/var/folders/w9/sxcp2ljj4wq3fdhy78rf5djh0000gn/T/tmpcqvpl42_.pyomo.lp'...\n",
      "4 rows, 5 columns, 9 non-zeros\n",
      "36 lines were read\n",
      "Writing problem data to '/var/folders/w9/sxcp2ljj4wq3fdhy78rf5djh0000gn/T/tmpcwpug6uf.glpk.glp'...\n",
      "32 lines were written\n",
      "GLPK Simplex Optimizer, v4.65\n",
      "4 rows, 5 columns, 9 non-zeros\n",
      "Preprocessing...\n",
      "3 rows, 4 columns, 8 non-zeros\n",
      "Scaling...\n",
      " A: min|aij| =  1.000e+00  max|aij| =  8.000e+00  ratio =  8.000e+00\n",
      "Problem data seem to be well scaled\n",
      "Constructing initial basis...\n",
      "Size of triangular part is 3\n",
      "*     0: obj =  -0.000000000e+00 inf =   0.000e+00 (3)\n",
      "*     3: obj =   1.800000000e+01 inf =   0.000e+00 (0)\n",
      "OPTIMAL LP SOLUTION FOUND\n",
      "Time used:   0.0 secs\n",
      "Memory used: 0.0 Mb (40424 bytes)\n",
      "Writing basic solution to '/var/folders/w9/sxcp2ljj4wq3fdhy78rf5djh0000gn/T/tmpryouhlme.glpk.raw'...\n",
      "18 lines were written\n"
     ]
    },
    {
     "data": {
      "text/plain": [
       "([1.0, 0.0, 0.0, 0.5], 18.0)"
      ]
     },
     "execution_count": 69,
     "metadata": {},
     "output_type": "execute_result"
    }
   ],
   "source": [
    "solve(po.Reals)"
   ]
  },
  {
   "cell_type": "code",
   "execution_count": null,
   "metadata": {},
   "outputs": [],
   "source": []
  }
 ],
 "metadata": {
  "kernelspec": {
   "display_name": "Python 3",
   "language": "python",
   "name": "python3"
  },
  "language_info": {
   "codemirror_mode": {
    "name": "ipython",
    "version": 3
   },
   "file_extension": ".py",
   "mimetype": "text/x-python",
   "name": "python",
   "nbconvert_exporter": "python",
   "pygments_lexer": "ipython3",
   "version": "3.6.4"
  }
 },
 "nbformat": 4,
 "nbformat_minor": 2
}
